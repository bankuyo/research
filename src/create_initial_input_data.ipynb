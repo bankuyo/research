{
 "cells": [
  {
   "cell_type": "code",
   "execution_count": 2,
   "id": "5e7cc2b4-78c8-440c-aab6-22dcd06d2701",
   "metadata": {},
   "outputs": [],
   "source": [
    "import os\n",
    "import pandas as pd"
   ]
  },
  {
   "cell_type": "code",
   "execution_count": 6,
   "id": "c9e2b3e6-b41b-433d-8494-e26b0c0a0d07",
   "metadata": {},
   "outputs": [],
   "source": [
    "# Print csv Data\n",
    "def print_csv_path(path):\n",
    "    for f in os.listdir(path):\n",
    "        print(f)"
   ]
  },
  {
   "cell_type": "code",
   "execution_count": 12,
   "id": "4b3e5768-f0f7-45c4-a378-0e5ecdc1dcab",
   "metadata": {},
   "outputs": [
    {
     "name": "stdout",
     "output_type": "stream",
     "text": [
      ".DS_Store\n",
      "OTU(20171102).xlsx のコピー.xlsx\n",
      "Taxonomy_(Table2018年2)20万リード.xlsx\n",
      "Taxonomy_Table(2018年10).xlsx\n",
      "Taxonomy_Table(2018年6).xlsx\n",
      "Taxonomy_Table(2018年8).xlsx\n",
      "Taxonomy_Table(2019年1).xlsx\n",
      "Taxonomy_Table（2018年4).xlsx\n"
     ]
    }
   ],
   "source": [
    "\n",
    "print_csv_path(\"/home/jovyan/work/Data/Original/Tamagawa\")"
   ]
  },
  {
   "cell_type": "code",
   "execution_count": 11,
   "id": "64730988-4f48-4584-a8fe-5418397f726a",
   "metadata": {},
   "outputs": [
    {
     "name": "stdout",
     "output_type": "stream",
     "text": [
      "/home/jovyan/work/src\n"
     ]
    }
   ],
   "source": []
  },
  {
   "cell_type": "code",
   "execution_count": null,
   "id": "cb5b9e2d-f08b-48eb-9885-3ffd994dcfbb",
   "metadata": {},
   "outputs": [],
   "source": []
  }
 ],
 "metadata": {
  "kernelspec": {
   "display_name": "Python 3 (ipykernel)",
   "language": "python",
   "name": "python3"
  },
  "language_info": {
   "codemirror_mode": {
    "name": "ipython",
    "version": 3
   },
   "file_extension": ".py",
   "mimetype": "text/x-python",
   "name": "python",
   "nbconvert_exporter": "python",
   "pygments_lexer": "ipython3",
   "version": "3.10.6"
  }
 },
 "nbformat": 4,
 "nbformat_minor": 5
}
